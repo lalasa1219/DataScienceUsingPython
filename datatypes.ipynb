{
 "cells": [
  {
   "cell_type": "markdown",
   "metadata": {},
   "source": [
    "#### standard data types\n",
    "\n"
   ]
  },
  {
   "cell_type": "markdown",
   "metadata": {},
   "source": [
    "#### python strings"
   ]
  },
  {
   "cell_type": "code",
   "execution_count": 2,
   "metadata": {},
   "outputs": [
    {
     "name": "stdout",
     "output_type": "stream",
     "text": [
      "lalasa\n",
      "l\n",
      "las\n",
      "lasa\n"
     ]
    }
   ],
   "source": [
    "str='lalasa'\n",
    "print (str)\n",
    "print (str[0])\n",
    "print (str[2:5])\n",
    "print (str[2:])\n"
   ]
  },
  {
   "cell_type": "code",
   "execution_count": 6,
   "metadata": {},
   "outputs": [
    {
     "name": "stdout",
     "output_type": "stream",
     "text": [
      "svecw\n",
      "e\n",
      "svecwcollege\n"
     ]
    }
   ],
   "source": [
    "str='svecw'\n",
    "print (str)\n",
    "print(str[2:3])\n",
    "print (str + \"college\")"
   ]
  },
  {
   "cell_type": "code",
   "execution_count": 7,
   "metadata": {},
   "outputs": [
    {
     "name": "stdout",
     "output_type": "stream",
     "text": [
      "datastructures\n"
     ]
    }
   ],
   "source": [
    "str1='data'\n",
    "str2='structures'\n",
    "print (str1+str2)"
   ]
  },
  {
   "cell_type": "code",
   "execution_count": 5,
   "metadata": {},
   "outputs": [
    {
     "name": "stdout",
     "output_type": "stream",
     "text": [
      "hello world\n",
      "hello worldhello world\n"
     ]
    }
   ],
   "source": [
    "str=\"hello world\"\n",
    "print(str)\n",
    "print(str *2)"
   ]
  },
  {
   "cell_type": "markdown",
   "metadata": {},
   "source": [
    "#### pyhton lists"
   ]
  },
  {
   "cell_type": "code",
   "execution_count": 12,
   "metadata": {},
   "outputs": [
    {
     "name": "stdout",
     "output_type": "stream",
     "text": [
      "['abcd', 1219, 2.23, 'xyz']\n",
      "abcd\n",
      "[1219]\n",
      "[1219, 2.23]\n"
     ]
    }
   ],
   "source": [
    "list=['abcd',1219,2.23,'xyz']\n",
    "print (list)\n",
    "print (list[0])\n",
    "print (list[1:2])\n",
    "print (list[1:3])\n"
   ]
  },
  {
   "cell_type": "code",
   "execution_count": 9,
   "metadata": {},
   "outputs": [
    {
     "name": "stdout",
     "output_type": "stream",
     "text": [
      "['svecw', '1219', 'svecw', '1219']\n"
     ]
    }
   ],
   "source": [
    "list=['svecw','1219']\n",
    "print (list * 2)"
   ]
  },
  {
   "cell_type": "code",
   "execution_count": 10,
   "metadata": {},
   "outputs": [
    {
     "name": "stdout",
     "output_type": "stream",
     "text": [
      "['svecw', 'college']\n"
     ]
    }
   ],
   "source": [
    "list=['svecw']\n",
    "tinylist=['college']\n",
    "print (list+tinylist)"
   ]
  },
  {
   "cell_type": "code",
   "execution_count": 15,
   "metadata": {},
   "outputs": [
    {
     "name": "stdout",
     "output_type": "stream",
     "text": [
      "['priya', 'lalasa']\n"
     ]
    }
   ],
   "source": [
    "list=['priya']\n",
    "list1=['lalasa']\n",
    "print (list+list1)\n",
    "\n"
   ]
  },
  {
   "cell_type": "markdown",
   "metadata": {},
   "source": [
    "#### python tuples"
   ]
  },
  {
   "cell_type": "code",
   "execution_count": 16,
   "metadata": {},
   "outputs": [
    {
     "name": "stdout",
     "output_type": "stream",
     "text": [
      "lalasa\n"
     ]
    }
   ],
   "source": [
    "tuple=('lalasa')\n",
    "print (tuple)"
   ]
  },
  {
   "cell_type": "code",
   "execution_count": 19,
   "metadata": {},
   "outputs": [
    {
     "name": "stdout",
     "output_type": "stream",
     "text": [
      "(1219, 'svecw')\n",
      "(1219,)\n",
      "('lalasa', 1219, 'svecw', 'lalasa', 1219, 'svecw')\n"
     ]
    }
   ],
   "source": [
    "tuple=('lalasa',1219,'svecw')\n",
    "print (tuple[1:3])\n",
    "print (tuple[1:2])\n",
    "print (tuple * 2)\n"
   ]
  },
  {
   "cell_type": "code",
   "execution_count": null,
   "metadata": {
    "collapsed": true
   },
   "outputs": [],
   "source": []
  }
 ],
 "metadata": {
  "kernelspec": {
   "display_name": "Python 3",
   "language": "python",
   "name": "python3"
  },
  "language_info": {
   "codemirror_mode": {
    "name": "ipython",
    "version": 3
   },
   "file_extension": ".py",
   "mimetype": "text/x-python",
   "name": "python",
   "nbconvert_exporter": "python",
   "pygments_lexer": "ipython3",
   "version": "3.6.3"
  }
 },
 "nbformat": 4,
 "nbformat_minor": 2
}
